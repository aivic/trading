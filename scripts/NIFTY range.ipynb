{
 "cells": [
  {
   "cell_type": "code",
   "execution_count": 1,
   "metadata": {},
   "outputs": [],
   "source": [
    "import numpy as np\n",
    "import pandas as pd\n",
    "import matplotlib.pyplot as plt\n",
    "import seaborn as sns\n",
    "from datetime import datetime"
   ]
  },
  {
   "cell_type": "code",
   "execution_count": 2,
   "metadata": {},
   "outputs": [],
   "source": [
    "dateparse = lambda x: datetime.strptime(x, '%Y-%m-%d')\n",
    "nifty = pd.read_csv('../historical/NIFTY50_day.csv', parse_dates=['Date'], date_parser=dateparse)\n",
    "dateparse = lambda x: datetime.strptime(x, '%Y-%m-%d')\n",
    "vix = pd.read_csv('../historical/VIX_day.csv', parse_dates=['Date'], date_parser=dateparse)\n",
    "dateparse = lambda x: datetime.strptime(x, '%m-%d-%Y')\n",
    "expiries  = pd.read_csv('../historical/expiry_days_15Jan2015_12May2021.csv', parse_dates=['expDays'], date_parser=dateparse)"
   ]
  },
  {
   "cell_type": "code",
   "execution_count": 3,
   "metadata": {},
   "outputs": [],
   "source": [
    "tmpNifty = nifty[nifty.Date.isin(expiries.expDays.values)]\\\n",
    "                    .drop_duplicates()\\\n",
    "                    .reset_index(drop=True)\\\n",
    "                    .loc[:,['Open', 'High', 'Low', 'Close']].add_prefix('nifty_')"
   ]
  },
  {
   "cell_type": "code",
   "execution_count": 4,
   "metadata": {},
   "outputs": [],
   "source": [
    "tmpVix = vix[vix.Date.isin(expiries.expDays.values)]\\\n",
    "                    .drop_duplicates()\\\n",
    "                    .reset_index(drop=True)\\\n",
    "                    .loc[:,['Open', 'High', 'Low', 'Close']].add_prefix('vix_')"
   ]
  },
  {
   "cell_type": "code",
   "execution_count": 5,
   "metadata": {},
   "outputs": [],
   "source": [
    "df = pd.concat([expiries, tmpNifty, tmpVix], axis=1)"
   ]
  },
  {
   "cell_type": "code",
   "execution_count": 6,
   "metadata": {},
   "outputs": [
    {
     "data": {
      "text/plain": [
       "(0.0, 250.0)"
      ]
     },
     "execution_count": 6,
     "metadata": {},
     "output_type": "execute_result"
    },
    {
     "data": {
      "image/png": "[encoded data removed]",
      "text/plain": [
       "<Figure size 432x288 with 1 Axes>"
      ]
     },
     "metadata": {
      "needs_background": "light"
     },
     "output_type": "display_data"
    }
   ],
   "source": [
    "plt.scatter(df.iloc[:,5:].median(axis=1), df.nifty_High - df.nifty_Low)\n",
    "plt.xlim([9, 30])\n",
    "plt.ylim([0, 250])"
   ]
  },
  {
   "cell_type": "code",
   "execution_count": 7,
   "metadata": {},
   "outputs": [
    {
     "data": {
      "text/plain": [
       "array([ 94.35  , 134.2875, 160.07  ])"
      ]
     },
     "execution_count": 7,
     "metadata": {},
     "output_type": "execute_result"
    }
   ],
   "source": [
    "np.percentile(df.nifty_High - df.nifty_Low, [50, 75, 85])"
   ]
  },
  {
   "cell_type": "code",
   "execution_count": 8,
   "metadata": {},
   "outputs": [
    {
     "data": {
      "text/plain": [
       "array([35.85 , 66.025, 91.175])"
      ]
     },
     "execution_count": 8,
     "metadata": {},
     "output_type": "execute_result"
    }
   ],
   "source": [
    "np.percentile(df.nifty_High - df.nifty_Open, [50, 75, 85])"
   ]
  },
  {
   "cell_type": "code",
   "execution_count": 9,
   "metadata": {},
   "outputs": [
    {
     "data": {
      "text/plain": [
       "array([ 50.95  ,  85.4625, 109.9775])"
      ]
     },
     "execution_count": 9,
     "metadata": {},
     "output_type": "execute_result"
    }
   ],
   "source": [
    "np.percentile(df.nifty_Open - df.nifty_Low, [50, 75, 85])"
   ]
  },
  {
   "cell_type": "markdown",
   "metadata": {},
   "source": [
    "#### Overall, Nifty can make 160 points move throughout the day. From Opening, it can rise or fall 100 points on either side."
   ]
  }
 ],
 "metadata": {
  "kernelspec": {
   "display_name": "Python 3",
   "language": "python",
   "name": "python3"
  },
  "language_info": {
   "codemirror_mode": {
    "name": "ipython",
    "version": 3
   },
   "file_extension": ".py",
   "mimetype": "text/x-python",
   "name": "python",
   "nbconvert_exporter": "python",
   "pygments_lexer": "ipython3",
   "version": "3.8.5"
  }
 },
 "nbformat": 4,
 "nbformat_minor": 4
}
