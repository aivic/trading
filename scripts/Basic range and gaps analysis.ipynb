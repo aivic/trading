{
 "cells": [
  {
   "cell_type": "code",
   "execution_count": 1,
   "metadata": {},
   "outputs": [],
   "source": [
    "import numpy as np\n",
    "import pandas as pd\n",
    "from datetime import datetime\n",
    "import matplotlib.pyplot as plt\n",
    "import seaborn as sns"
   ]
  },
  {
   "cell_type": "code",
   "execution_count": 2,
   "metadata": {},
   "outputs": [
    {
     "data": {
      "text/html": [
       "<div>\n",
       "<style scoped>\n",
       "    .dataframe tbody tr th:only-of-type {\n",
       "        vertical-align: middle;\n",
       "    }\n",
       "\n",
       "    .dataframe tbody tr th {\n",
       "        vertical-align: top;\n",
       "    }\n",
       "\n",
       "    .dataframe thead th {\n",
       "        text-align: right;\n",
       "    }\n",
       "</style>\n",
       "<table border=\"1\" class=\"dataframe\">\n",
       "  <thead>\n",
       "    <tr style=\"text-align: right;\">\n",
       "      <th></th>\n",
       "      <th>TIME</th>\n",
       "      <th>Open</th>\n",
       "      <th>High</th>\n",
       "      <th>Low</th>\n",
       "      <th>Close</th>\n",
       "      <th>VOLUME</th>\n",
       "      <th>SYMBOL</th>\n",
       "      <th>Date</th>\n",
       "      <th>TIME1</th>\n",
       "    </tr>\n",
       "  </thead>\n",
       "  <tbody>\n",
       "    <tr>\n",
       "      <th>0</th>\n",
       "      <td>2015-01-01 00:00:00</td>\n",
       "      <td>8272.79</td>\n",
       "      <td>8294.70</td>\n",
       "      <td>8248.75</td>\n",
       "      <td>8284.00</td>\n",
       "      <td>0</td>\n",
       "      <td>NIFTY%2050</td>\n",
       "      <td>2015-01-01</td>\n",
       "      <td>00:00:00</td>\n",
       "    </tr>\n",
       "    <tr>\n",
       "      <th>1</th>\n",
       "      <td>2015-01-02 00:00:00</td>\n",
       "      <td>8288.70</td>\n",
       "      <td>8410.60</td>\n",
       "      <td>8288.70</td>\n",
       "      <td>8395.45</td>\n",
       "      <td>0</td>\n",
       "      <td>NIFTY%2050</td>\n",
       "      <td>2015-01-02</td>\n",
       "      <td>00:00:00</td>\n",
       "    </tr>\n",
       "    <tr>\n",
       "      <th>2</th>\n",
       "      <td>2015-01-05 00:00:00</td>\n",
       "      <td>8407.95</td>\n",
       "      <td>8445.60</td>\n",
       "      <td>8363.90</td>\n",
       "      <td>8378.40</td>\n",
       "      <td>0</td>\n",
       "      <td>NIFTY%2050</td>\n",
       "      <td>2015-01-05</td>\n",
       "      <td>00:00:00</td>\n",
       "    </tr>\n",
       "    <tr>\n",
       "      <th>3</th>\n",
       "      <td>2015-01-06 00:00:00</td>\n",
       "      <td>8325.29</td>\n",
       "      <td>8327.85</td>\n",
       "      <td>8111.35</td>\n",
       "      <td>8127.35</td>\n",
       "      <td>0</td>\n",
       "      <td>NIFTY%2050</td>\n",
       "      <td>2015-01-06</td>\n",
       "      <td>00:00:00</td>\n",
       "    </tr>\n",
       "    <tr>\n",
       "      <th>4</th>\n",
       "      <td>2015-01-07 00:00:00</td>\n",
       "      <td>8118.65</td>\n",
       "      <td>8151.20</td>\n",
       "      <td>8065.45</td>\n",
       "      <td>8102.10</td>\n",
       "      <td>0</td>\n",
       "      <td>NIFTY%2050</td>\n",
       "      <td>2015-01-07</td>\n",
       "      <td>00:00:00</td>\n",
       "    </tr>\n",
       "  </tbody>\n",
       "</table>\n",
       "</div>"
      ],
      "text/plain": [
       "                  TIME     Open     High      Low    Close  VOLUME  \\\n",
       "0  2015-01-01 00:00:00  8272.79  8294.70  8248.75  8284.00       0   \n",
       "1  2015-01-02 00:00:00  8288.70  8410.60  8288.70  8395.45       0   \n",
       "2  2015-01-05 00:00:00  8407.95  8445.60  8363.90  8378.40       0   \n",
       "3  2015-01-06 00:00:00  8325.29  8327.85  8111.35  8127.35       0   \n",
       "4  2015-01-07 00:00:00  8118.65  8151.20  8065.45  8102.10       0   \n",
       "\n",
       "       SYMBOL       Date     TIME1  \n",
       "0  NIFTY%2050 2015-01-01  00:00:00  \n",
       "1  NIFTY%2050 2015-01-02  00:00:00  \n",
       "2  NIFTY%2050 2015-01-05  00:00:00  \n",
       "3  NIFTY%2050 2015-01-06  00:00:00  \n",
       "4  NIFTY%2050 2015-01-07  00:00:00  "
      ]
     },
     "execution_count": 2,
     "metadata": {},
     "output_type": "execute_result"
    }
   ],
   "source": [
    "dateparse = lambda x: datetime.strptime(x, '%Y-%m-%d')\n",
    "nifty = pd.read_csv('../historical/NIFTY50_day.csv', parse_dates=['Date'], date_parser=dateparse)\n",
    "nifty.head(5)"
   ]
  },
  {
   "cell_type": "markdown",
   "metadata": {},
   "source": [
    "# I. Daily "
   ]
  },
  {
   "cell_type": "markdown",
   "metadata": {},
   "source": [
    "## Daily range"
   ]
  },
  {
   "cell_type": "code",
   "execution_count": 3,
   "metadata": {},
   "outputs": [],
   "source": [
    "dailyRange = nifty.High - nifty.Low"
   ]
  },
  {
   "cell_type": "code",
   "execution_count": 4,
   "metadata": {},
   "outputs": [
    {
     "data": {
      "image/png": "[encoded data removed]",
      "text/plain": [
       "<Figure size 360x360 with 1 Axes>"
      ]
     },
     "metadata": {
      "needs_background": "light"
     },
     "output_type": "display_data"
    }
   ],
   "source": [
    "sns.displot(dailyRange)\n",
    "plt.show()"
   ]
  },
  {
   "cell_type": "code",
   "execution_count": 5,
   "metadata": {},
   "outputs": [],
   "source": [
    "dailyRange = np.delete(np.array(dailyRange), 1328) # Taking out the outlier by index"
   ]
  },
  {
   "cell_type": "code",
   "execution_count": 6,
   "metadata": {},
   "outputs": [
    {
     "data": {
      "text/plain": [
       "array([ 69.5875,  95.325 , 175.35  , 254.6   ])"
      ]
     },
     "execution_count": 6,
     "metadata": {},
     "output_type": "execute_result"
    }
   ],
   "source": [
    "np.percentile(dailyRange, [25, 50, 85, 95])"
   ]
  },
  {
   "cell_type": "code",
   "execution_count": 7,
   "metadata": {},
   "outputs": [
    {
     "name": "stdout",
     "output_type": "stream",
     "text": [
      "1 Sigma:  200\n",
      "2 Sigma:  281\n",
      "3 Sigma:  362\n"
     ]
    }
   ],
   "source": [
    "print(\"1 Sigma: \", round(np.std(dailyRange) + np.mean(dailyRange)))\n",
    "print(\"2 Sigma: \", round(2 * np.std(dailyRange) + np.mean(dailyRange)))\n",
    "print(\"3 Sigma: \", round(3 * np.std(dailyRange) + np.mean(dailyRange)))"
   ]
  },
  {
   "cell_type": "markdown",
   "metadata": {},
   "source": [
    "#### 68% (1 sigma) of the daily range confined within 200 points"
   ]
  },
  {
   "cell_type": "markdown",
   "metadata": {},
   "source": [
    "## Gaps"
   ]
  },
  {
   "cell_type": "code",
   "execution_count": 8,
   "metadata": {},
   "outputs": [],
   "source": [
    "gaps = []\n",
    "for i in range(nifty.shape[0]-1):\n",
    "    gaps.append(round(nifty.Close[i] - nifty.Open[i+1]))"
   ]
  },
  {
   "cell_type": "code",
   "execution_count": 9,
   "metadata": {},
   "outputs": [
    {
     "data": {
      "image/png": "[encoded data removed]",
      "text/plain": [
       "<Figure size 360x360 with 1 Axes>"
      ]
     },
     "metadata": {
      "needs_background": "light"
     },
     "output_type": "display_data"
    }
   ],
   "source": [
    "sns.displot(gaps)\n",
    "plt.show()"
   ]
  },
  {
   "cell_type": "code",
   "execution_count": 10,
   "metadata": {},
   "outputs": [],
   "source": [
    "gaps = np.delete(np.array(gaps), np.where(gaps == 800)) # Taking out the outlier by value"
   ]
  },
  {
   "cell_type": "code",
   "execution_count": 11,
   "metadata": {},
   "outputs": [
    {
     "data": {
      "text/plain": [
       "array([-40. , -17.5,  23. ])"
      ]
     },
     "execution_count": 11,
     "metadata": {},
     "output_type": "execute_result"
    }
   ],
   "source": [
    "np.percentile(gaps, [25, 50, 85])"
   ]
  },
  {
   "cell_type": "code",
   "execution_count": 12,
   "metadata": {},
   "outputs": [
    {
     "name": "stdout",
     "output_type": "stream",
     "text": [
      "1 Sigma above:  54 || 1 Sigma below:  -82\n",
      "2 Sigma above:  122 || 2 Sigma below:  -151\n",
      "3 Sigma above:  190 || 3 Sigma below:  -219\n"
     ]
    }
   ],
   "source": [
    "print(\"1 Sigma above: \", round(np.std(gaps) + np.mean(gaps)), \n",
    "      \"|| 1 Sigma below: \", round(- np.std(gaps) + np.mean(gaps)))\n",
    "print(\"2 Sigma above: \", round(2 * np.std(gaps) + np.mean(gaps)), \n",
    "      \"|| 2 Sigma below: \", round(- 2 * np.std(gaps) + np.mean(gaps)))\n",
    "print(\"3 Sigma above: \", round(3 * np.std(gaps) + np.mean(gaps)), \n",
    "      \"|| 3 Sigma below: \", round(- 3 * np.std(gaps) + np.mean(gaps)))"
   ]
  },
  {
   "cell_type": "markdown",
   "metadata": {},
   "source": [
    "#### 68% (1 sigma) of the time, gap up is 50 points and gap down is 80 points"
   ]
  },
  {
   "cell_type": "markdown",
   "metadata": {},
   "source": [
    "# II. Weekly: Mon - Fri\n",
    "Range has been taken from last Friday closing to this Friday closing"
   ]
  },
  {
   "cell_type": "code",
   "execution_count": 13,
   "metadata": {},
   "outputs": [],
   "source": [
    "wI = nifty.Date.dt.weekday\n",
    "wI = wI.iloc[2:] # Ignoring starting two days "
   ]
  },
  {
   "cell_type": "code",
   "execution_count": 14,
   "metadata": {},
   "outputs": [],
   "source": [
    "weekStart = wI[np.insert((np.diff(wI) < 0), 0, True)].index"
   ]
  },
  {
   "cell_type": "code",
   "execution_count": 15,
   "metadata": {},
   "outputs": [],
   "source": [
    "weekRangedown = []\n",
    "weekRangeup = []\n",
    "for i in range(weekStart.shape[0] - 1):\n",
    "    startingValue = nifty.loc[weekStart[i] - 1, 'Close']    \n",
    "    weekOHLC = nifty.loc[weekStart[i]:weekStart[i+1] - 1, ['Open', 'High', 'Low', 'Close']]\n",
    "    weekMax = weekOHLC.max().max()\n",
    "    weekMin = weekOHLC.min().min()\n",
    "    if (startingValue < weekMin) and (startingValue < weekMax):\n",
    "        weekRangeup.append(round(weekMax - startingValue))\n",
    "    elif (startingValue > weekMin) and (startingValue < weekMax):\n",
    "        weekRangeup.append(round(weekMax - startingValue))\n",
    "        weekRangedown.append(round(weekMin - startingValue))        \n",
    "    elif (startingValue > weekMin) and (startingValue > weekMax):    \n",
    "        weekRangedown.append(round(weekMin - startingValue))"
   ]
  },
  {
   "cell_type": "code",
   "execution_count": 16,
   "metadata": {},
   "outputs": [
    {
     "data": {
      "image/png": "[encoded data removed]",
      "text/plain": [
       "<Figure size 360x360 with 1 Axes>"
      ]
     },
     "metadata": {
      "needs_background": "light"
     },
     "output_type": "display_data"
    }
   ],
   "source": [
    "sns.displot(np.concatenate((weekRangeup, weekRangedown)))\n",
    "plt.show()"
   ]
  },
  {
   "cell_type": "code",
   "execution_count": 17,
   "metadata": {},
   "outputs": [],
   "source": [
    "weekRangedown = np.delete(weekRangedown, np.where(weekRangedown == -2434)) # Taking out the outlier\n",
    "weekRangedown = np.delete(weekRangedown, np.where(weekRangedown == -2123)) # Taking out the outlier"
   ]
  },
  {
   "cell_type": "code",
   "execution_count": 18,
   "metadata": {},
   "outputs": [
    {
     "name": "stdout",
     "output_type": "stream",
     "text": [
      "[ 63.  138.  281.7 420.3]\n",
      "[-231.  -133.   -33.4  -13.8]\n"
     ]
    }
   ],
   "source": [
    "print(np.percentile(weekRangeup, [25, 50, 85, 95]))\n",
    "print(np.percentile(weekRangedown, [25, 50, 85, 95]))"
   ]
  },
  {
   "cell_type": "code",
   "execution_count": 19,
   "metadata": {},
   "outputs": [
    {
     "name": "stdout",
     "output_type": "stream",
     "text": [
      "1 Sigma above:  327 || 1 Sigma below:  -406\n",
      "2 Sigma above:  484 || 2 Sigma below:  -627\n",
      "3 Sigma above:  642 || 3 Sigma below:  -848\n"
     ]
    }
   ],
   "source": [
    "print(\"1 Sigma above: \", round(np.std(weekRangeup) + np.mean(weekRangeup)), \n",
    "      \"|| 1 Sigma below: \", round(- np.std(weekRangedown) + np.mean(weekRangedown)))\n",
    "print(\"2 Sigma above: \", round(2 * np.std(weekRangeup) + np.mean(weekRangeup)), \n",
    "      \"|| 2 Sigma below: \", round(- 2 * np.std(weekRangedown) + np.mean(weekRangedown)))\n",
    "print(\"3 Sigma above: \", round(3 * np.std(weekRangeup) + np.mean(weekRangeup)), \n",
    "      \"|| 3 Sigma below: \", round(- 3 * np.std(weekRangedown) + np.mean(weekRangedown)))"
   ]
  },
  {
   "cell_type": "markdown",
   "metadata": {},
   "source": [
    "#### 68% of the time, Nifty can travel 350 points up and 400 points down in a week"
   ]
  },
  {
   "cell_type": "markdown",
   "metadata": {},
   "source": [
    "# III. Weekly: Thursday - Thursday\n",
    "Range has been taken from last Wednesday closing to this Thursday closing"
   ]
  },
  {
   "cell_type": "code",
   "execution_count": 20,
   "metadata": {},
   "outputs": [],
   "source": [
    "wI = nifty.Date.dt.weekday\n",
    "Tstart = wI[wI - 3 == 0].index"
   ]
  },
  {
   "cell_type": "code",
   "execution_count": 21,
   "metadata": {},
   "outputs": [],
   "source": [
    "TweekRangeUp = []\n",
    "TweekRangeDown = []\n",
    "for i in range(1, Tstart.shape[0]-1):    \n",
    "    startingValue = nifty.loc[Tstart[i] - 1, 'Close']    \n",
    "    weekOHLC = nifty.loc[Tstart[i]:Tstart[i+1] , ['Open', 'High', 'Low', 'Close']]\n",
    "    weekMax = weekOHLC.max().max()\n",
    "    weekMin = weekOHLC.min().min()    \n",
    "    \n",
    "    if (startingValue < weekMin) and (startingValue < weekMax):\n",
    "        TweekRangeUp.append(round(weekMax - startingValue))\n",
    "    elif (startingValue > weekMin) and (startingValue < weekMax):\n",
    "        TweekRangeUp.append(round(weekMax - startingValue))\n",
    "        TweekRangeDown.append(round(weekMin - startingValue))        \n",
    "    elif (startingValue > weekMin) and (startingValue > weekMax):    \n",
    "        TweekRangeDown.append(round(weekMin - startingValue))"
   ]
  },
  {
   "cell_type": "code",
   "execution_count": 22,
   "metadata": {},
   "outputs": [
    {
     "data": {
      "image/png": "[encoded data removed]",
      "text/plain": [
       "<Figure size 360x360 with 1 Axes>"
      ]
     },
     "metadata": {
      "needs_background": "light"
     },
     "output_type": "display_data"
    }
   ],
   "source": [
    "sns.displot(np.concatenate((TweekRangeUp, TweekRangeDown)))\n",
    "plt.show()"
   ]
  },
  {
   "cell_type": "code",
   "execution_count": 23,
   "metadata": {},
   "outputs": [],
   "source": [
    "TweekRangeDown = np.delete(TweekRangeDown, np.where(TweekRangeDown == -2626)) # Taking out the outlier\n",
    "TweekRangeDown = np.delete(TweekRangeDown, np.where(TweekRangeDown == -1761)) # Taking out the outlier"
   ]
  },
  {
   "cell_type": "code",
   "execution_count": 24,
   "metadata": {},
   "outputs": [
    {
     "name": "stdout",
     "output_type": "stream",
     "text": [
      "[ 72.5 157.  302.1 466.7]\n",
      "[-256.75 -119.5   -27.65   -8.  ]\n"
     ]
    }
   ],
   "source": [
    "print(np.percentile(TweekRangeUp, [25, 50, 85, 95]))\n",
    "print(np.percentile(TweekRangeDown, [25, 50, 85, 95]))"
   ]
  },
  {
   "cell_type": "code",
   "execution_count": 25,
   "metadata": {},
   "outputs": [
    {
     "name": "stdout",
     "output_type": "stream",
     "text": [
      "1 Sigma above:  347 || 1 Sigma below:  -415\n",
      "2 Sigma above:  507 || 2 Sigma below:  -642\n",
      "3 Sigma above:  668 || 3 Sigma below:  -869\n"
     ]
    }
   ],
   "source": [
    "print(\"1 Sigma above: \", round(np.std(TweekRangeUp) + np.mean(TweekRangeUp)), \n",
    "      \"|| 1 Sigma below: \", round(- np.std(TweekRangeDown) + np.mean(TweekRangeDown)))\n",
    "print(\"2 Sigma above: \", round(2 * np.std(TweekRangeUp) + np.mean(TweekRangeUp)), \n",
    "      \"|| 2 Sigma below: \", round(- 2 * np.std(TweekRangeDown) + np.mean(TweekRangeDown)))\n",
    "print(\"3 Sigma above: \", round(3 * np.std(TweekRangeUp) + np.mean(TweekRangeUp)), \n",
    "      \"|| 3 Sigma below: \", round(- 3 * np.std(TweekRangeDown) + np.mean(TweekRangeDown)))"
   ]
  },
  {
   "cell_type": "markdown",
   "metadata": {},
   "source": [
    "#### NIFTY can move +350/-400  points 68% of the time"
   ]
  },
  {
   "cell_type": "markdown",
   "metadata": {},
   "source": [
    "# IV. Monthly"
   ]
  },
  {
   "cell_type": "code",
   "execution_count": 26,
   "metadata": {},
   "outputs": [],
   "source": [
    "idx = nifty[np.insert(np.diff(pd.to_datetime(nifty.TIME).dt.month) == 1, 0, True)].index"
   ]
  },
  {
   "cell_type": "code",
   "execution_count": 27,
   "metadata": {},
   "outputs": [],
   "source": [
    "monthRangeUp = []\n",
    "monthRangeDown = []\n",
    "for i in range(1, idx.shape[0]-1):   \n",
    "    startingValue = nifty.loc[idx[i] - 1].Close    \n",
    "    monthOHLC = nifty.loc[idx[i]:idx[i+1] - 1, ['Open', 'High', 'Low', 'Close']]\n",
    "    monthMax = monthOHLC.max().max()\n",
    "    monthMin = monthOHLC.min().min()  \n",
    "    if (startingValue < monthMax) & (startingValue < monthMin):\n",
    "        monthRangeUp.append(round(monthMax - startingValue))\n",
    "    elif (startingValue < monthMax) & (startingValue > monthMin):\n",
    "        monthRangeUp.append(round(monthMax - startingValue))\n",
    "        monthRangeDown.append(round(monthMin - startingValue))\n",
    "    elif (startingValue > monthMax) & (startingValue > monthMin):        \n",
    "        monthRangeDown.append(round(monthMin - startingValue))\n"
   ]
  },
  {
   "cell_type": "code",
   "execution_count": 28,
   "metadata": {},
   "outputs": [
    {
     "data": {
      "image/png": "[encoded data removed]",
      "text/plain": [
       "<Figure size 360x360 with 1 Axes>"
      ]
     },
     "metadata": {
      "needs_background": "light"
     },
     "output_type": "display_data"
    }
   ],
   "source": [
    "sns.displot(np.concatenate((monthRangeUp, monthRangeDown)))\n",
    "plt.show()"
   ]
  },
  {
   "cell_type": "code",
   "execution_count": 29,
   "metadata": {},
   "outputs": [],
   "source": [
    "monthRangeDown = np.delete(monthRangeDown, np.where(monthRangeDown == -3691)) # Taking out the outlier"
   ]
  },
  {
   "cell_type": "code",
   "execution_count": 30,
   "metadata": {},
   "outputs": [
    {
     "name": "stdout",
     "output_type": "stream",
     "text": [
      "[ 153.25  285.5   775.15 1202.8 ]\n",
      "[-541.5 -245.   -47.4   -7.2]\n"
     ]
    }
   ],
   "source": [
    "print(np.percentile(monthRangeUp, [25, 50, 85, 95]))\n",
    "print(np.percentile(monthRangeDown, [25, 50, 85, 95]))"
   ]
  },
  {
   "cell_type": "code",
   "execution_count": 31,
   "metadata": {},
   "outputs": [
    {
     "name": "stdout",
     "output_type": "stream",
     "text": [
      "1 Sigma above:  799 || 1 Sigma below:  -887\n",
      "2 Sigma above:  1191 || 2 Sigma below:  -1387\n",
      "3 Sigma above:  1584 || 3 Sigma below:  -1886\n"
     ]
    }
   ],
   "source": [
    "print(\"1 Sigma above: \", round(np.std(monthRangeUp) + np.mean(monthRangeUp)), \n",
    "      \"|| 1 Sigma below: \", round(- np.std(monthRangeDown) + np.mean(monthRangeDown)))\n",
    "print(\"2 Sigma above: \", round(2 * np.std(monthRangeUp) + np.mean(monthRangeUp)), \n",
    "      \"|| 2 Sigma below: \", round(- 2 * np.std(monthRangeDown) + np.mean(monthRangeDown)))\n",
    "print(\"3 Sigma above: \", round(3 * np.std(monthRangeUp) + np.mean(monthRangeUp)), \n",
    "      \"|| 3 Sigma below: \", round(- 3 * np.std(monthRangeDown) + np.mean(monthRangeDown)))"
   ]
  },
  {
   "cell_type": "markdown",
   "metadata": {},
   "source": [
    "#### NIFTY moves +800/-600 points in a month up or down 68% of the time"
   ]
  }
 ],
 "metadata": {
  "kernelspec": {
   "display_name": "Python 3",
   "language": "python",
   "name": "python3"
  },
  "language_info": {
   "codemirror_mode": {
    "name": "ipython",
    "version": 3
   },
   "file_extension": ".py",
   "mimetype": "text/x-python",
   "name": "python",
   "nbconvert_exporter": "python",
   "pygments_lexer": "ipython3",
   "version": "3.8.5"
  }
 },
 "nbformat": 4,
 "nbformat_minor": 4
}
