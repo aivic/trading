{
 "cells": [
  {
   "cell_type": "code",
   "execution_count": 1,
   "metadata": {},
   "outputs": [],
   "source": [
    "import numpy as np\n",
    "import pandas as pd\n",
    "import matplotlib.pyplot as plt\n",
    "import datetime\n",
    "import seaborn as sns"
   ]
  },
  {
   "cell_type": "code",
   "execution_count": 2,
   "metadata": {},
   "outputs": [],
   "source": [
    "df = pd.read_csv('../data/NIFTY50_day.csv')"
   ]
  },
  {
   "cell_type": "code",
   "execution_count": 3,
   "metadata": {},
   "outputs": [
    {
     "name": "stdout",
     "output_type": "stream",
     "text": [
      "<class 'pandas.core.frame.DataFrame'>\n",
      "RangeIndex: 1627 entries, 0 to 1626\n",
      "Data columns (total 9 columns):\n",
      " #   Column  Non-Null Count  Dtype  \n",
      "---  ------  --------------  -----  \n",
      " 0   TIME    1627 non-null   object \n",
      " 1   Open    1627 non-null   float64\n",
      " 2   High    1627 non-null   float64\n",
      " 3   Low     1627 non-null   float64\n",
      " 4   Close   1627 non-null   float64\n",
      " 5   VOLUME  1627 non-null   int64  \n",
      " 6   SYMBOL  1627 non-null   object \n",
      " 7   Date    1627 non-null   object \n",
      " 8   TIME1   1627 non-null   object \n",
      "dtypes: float64(4), int64(1), object(4)\n",
      "memory usage: 114.5+ KB\n"
     ]
    }
   ],
   "source": [
    "df.info()"
   ]
  },
  {
   "cell_type": "code",
   "execution_count": 4,
   "metadata": {},
   "outputs": [],
   "source": [
    "dateparse = lambda x: datetime.datetime.strptime(x, '%m/%d/%Y')\n",
    "expiries = pd.read_csv('../data/expiry_days_15Jan2015_12May2021.csv',\n",
    "                      parse_dates=['expDays'], date_parser=dateparse)"
   ]
  },
  {
   "cell_type": "code",
   "execution_count": 5,
   "metadata": {},
   "outputs": [],
   "source": [
    "# Dropping the records based on duplicate dates \n",
    "df = df.iloc[df.Date.drop_duplicates().index, :].reset_index(drop=True)"
   ]
  },
  {
   "cell_type": "code",
   "execution_count": 6,
   "metadata": {},
   "outputs": [],
   "source": [
    "expIndex = df[pd.to_datetime(df.Date).isin(expiries.expDays)].index"
   ]
  },
  {
   "cell_type": "code",
   "execution_count": 7,
   "metadata": {},
   "outputs": [],
   "source": [
    "dayBeforeIndex = expIndex - 1"
   ]
  },
  {
   "cell_type": "code",
   "execution_count": 8,
   "metadata": {},
   "outputs": [],
   "source": [
    "ltp = df.loc[dayBeforeIndex.values, 'Close'] # last traded price - ideally at Wednesday 15:30 "
   ]
  },
  {
   "cell_type": "code",
   "execution_count": 9,
   "metadata": {},
   "outputs": [],
   "source": [
    "cp = df.loc[expIndex.values,'Open'] # current price - ideally at Thursday 9:15 "
   ]
  },
  {
   "cell_type": "code",
   "execution_count": 10,
   "metadata": {},
   "outputs": [],
   "source": [
    "gaps = cp.values - ltp.values"
   ]
  },
  {
   "cell_type": "code",
   "execution_count": 11,
   "metadata": {},
   "outputs": [
    {
     "data": {
      "text/plain": [
       "array([-418., -405., -290., -219., -170., -157., -121., -104.,  -99.,\n",
       "        -97.,  -96.,  -95.,  -91.,  -90.,  -82.,  -77.,  -74.,  -73.,\n",
       "        -70.,  -68.,  -65.,  -65.,  -58.,  -56.,  -54.,  -50.,  -48.,\n",
       "        -47.,  -43.,  -41.,  -41.,  -38.,  -38.,  -38.,  -37.,  -37.,\n",
       "        -37.,  -35.,  -33.,  -33.,  -32.,  -29.,  -29.,  -27.,  -26.,\n",
       "        -25.,  -24.,  -23.,  -23.,  -22.,  -22.,  -20.,  -19.,  -18.,\n",
       "        -18.,  -18.,  -17.,  -17.,  -17.,  -16.,  -15.,  -15.,  -14.,\n",
       "        -14.,  -13.,  -13.,  -13.,  -12.,  -12.,  -12.,  -12.,  -11.,\n",
       "        -11.,  -10.,  -10.,  -10.,   -8.,   -8.,   -8.,   -7.,   -7.,\n",
       "         -7.,   -6.,   -6.,   -5.,   -4.,   -4.,   -4.,   -3.,   -3.,\n",
       "         -3.,   -3.,   -2.,   -2.,   -2.,   -1.,   -1.,   -1.,    0.,\n",
       "          0.,   -0.,   -0.,    1.,    1.,    1.,    2.,    2.,    2.,\n",
       "          2.,    2.,    2.,    3.,    3.,    4.,    4.,    4.,    4.,\n",
       "          4.,    5.,    5.,    5.,    5.,    6.,    6.,    6.,    7.,\n",
       "          7.,    7.,    7.,    7.,    8.,    8.,    8.,    9.,    9.,\n",
       "          9.,   10.,   10.,   10.,   10.,   11.,   11.,   11.,   12.,\n",
       "         12.,   12.,   12.,   13.,   13.,   13.,   13.,   14.,   14.,\n",
       "         14.,   16.,   16.,   16.,   16.,   16.,   16.,   16.,   16.,\n",
       "         16.,   17.,   17.,   17.,   17.,   18.,   18.,   18.,   18.,\n",
       "         18.,   18.,   18.,   18.,   19.,   19.,   19.,   19.,   19.,\n",
       "         19.,   19.,   20.,   21.,   21.,   21.,   21.,   22.,   22.,\n",
       "         22.,   23.,   23.,   23.,   23.,   24.,   24.,   24.,   25.,\n",
       "         25.,   25.,   26.,   26.,   26.,   26.,   26.,   26.,   27.,\n",
       "         28.,   28.,   29.,   30.,   30.,   30.,   30.,   30.,   31.,\n",
       "         31.,   31.,   31.,   31.,   31.,   32.,   32.,   33.,   34.,\n",
       "         34.,   34.,   34.,   35.,   36.,   36.,   36.,   37.,   37.,\n",
       "         37.,   37.,   38.,   38.,   38.,   38.,   39.,   39.,   40.,\n",
       "         40.,   41.,   41.,   41.,   42.,   42.,   43.,   43.,   44.,\n",
       "         45.,   45.,   46.,   48.,   48.,   48.,   48.,   48.,   49.,\n",
       "         50.,   50.,   50.,   50.,   50.,   50.,   50.,   51.,   52.,\n",
       "         53.,   55.,   55.,   55.,   55.,   56.,   56.,   56.,   57.,\n",
       "         57.,   57.,   57.,   58.,   59.,   59.,   59.,   60.,   61.,\n",
       "         62.,   63.,   63.,   64.,   65.,   67.,   68.,   69.,   69.,\n",
       "         71.,   73.,   77.,   80.,   84.,   85.,   85.,   86.,   88.,\n",
       "         88.,   96.,   97.,   98.,  100.,  102.,  104.,  104.,  108.,\n",
       "        108.,  114.,  117.,  124.,  127.,  128.,  133.,  134.,  147.,\n",
       "        154.,  163.,  200.,  224.])"
      ]
     },
     "execution_count": 11,
     "metadata": {},
     "output_type": "execute_result"
    }
   ],
   "source": [
    "np.sort(np.round(gaps))"
   ]
  },
  {
   "cell_type": "markdown",
   "metadata": {},
   "source": [
    "# Combined gaps of all the years"
   ]
  },
  {
   "cell_type": "code",
   "execution_count": 12,
   "metadata": {},
   "outputs": [
    {
     "data": {
      "image/png": "[encoded data removed]",
      "text/plain": [
       "<Figure size 1080x360 with 1 Axes>"
      ]
     },
     "metadata": {
      "needs_background": "light"
     },
     "output_type": "display_data"
    }
   ],
   "source": [
    "sns.displot(gaps, kde=True, rug=True, aspect=3)\n",
    "plt.show()"
   ]
  },
  {
   "cell_type": "code",
   "execution_count": 13,
   "metadata": {},
   "outputs": [
    {
     "data": {
      "text/plain": [
       "(13.77945121951225, 3921.6481204305423, 62.62306380584187)"
      ]
     },
     "execution_count": 13,
     "metadata": {},
     "output_type": "execute_result"
    }
   ],
   "source": [
    "gap_mean = np.mean(gaps)\n",
    "gap_var = np.var(gaps)\n",
    "gap_std = np.std(gaps)\n",
    "gap_mean, gap_var, gap_std"
   ]
  },
  {
   "cell_type": "code",
   "execution_count": 14,
   "metadata": {},
   "outputs": [
    {
     "data": {
      "text/plain": [
       "(76.40251502535412,\n",
       " -48.84361258632963,\n",
       " 139.025578831196,\n",
       " -111.4666763921715,\n",
       " 201.64864263703788,\n",
       " -174.08974019801337)"
      ]
     },
     "execution_count": 14,
     "metadata": {},
     "output_type": "execute_result"
    }
   ],
   "source": [
    "sigma1up = gap_mean + (gap_std * 1) \n",
    "sigma2up = gap_mean + (gap_std * 2)\n",
    "sigma3up = gap_mean + (gap_std * 3)\n",
    "\n",
    "sigma1down = gap_mean - (gap_std * 1) \n",
    "sigma2down = gap_mean - (gap_std * 2)\n",
    "sigma3down = gap_mean - (gap_std * 3)\n",
    "\n",
    "sigma1up, sigma1down, sigma2up, sigma2down, sigma3up, sigma3down"
   ]
  },
  {
   "cell_type": "code",
   "execution_count": 15,
   "metadata": {},
   "outputs": [],
   "source": [
    "# Separating the dataframe into each year\n",
    "combined = df[pd.to_datetime(df.Date).isin(expiries.expDays)]\n",
    "Y2015 = combined[combined.Date.str.contains('2015')]\n",
    "Y2016 = combined[combined.Date.str.contains('2016')]\n",
    "Y2017 = combined[combined.Date.str.contains('2017')]\n",
    "Y2018 = combined[combined.Date.str.contains('2018')]\n",
    "Y2019 = combined[combined.Date.str.contains('2019')]\n",
    "Y2020 = combined[combined.Date.str.contains('2020')]\n",
    "Y2021 = combined[combined.Date.str.contains('2021')]"
   ]
  },
  {
   "cell_type": "code",
   "execution_count": 16,
   "metadata": {},
   "outputs": [],
   "source": [
    "# Finding gaps in each year\n",
    "yearlyGaps = [df.loc[Y2015.index, 'Open'].values - df.loc[Y2015.index - 1, 'Close'].values,\n",
    "                df.loc[Y2016.index, 'Open'].values - df.loc[Y2016.index - 1, 'Close'].values,\n",
    "                df.loc[Y2017.index, 'Open'].values - df.loc[Y2017.index - 1, 'Close'].values,\n",
    "                df.loc[Y2018.index, 'Open'].values - df.loc[Y2018.index - 1, 'Close'].values,\n",
    "                df.loc[Y2019.index, 'Open'].values - df.loc[Y2019.index - 1, 'Close'].values,\n",
    "                df.loc[Y2020.index, 'Open'].values - df.loc[Y2020.index - 1, 'Close'].values,\n",
    "                df.loc[Y2021.index, 'Open'].values - df.loc[Y2021.index - 1, 'Close'].values]"
   ]
  },
  {
   "cell_type": "code",
   "execution_count": 17,
   "metadata": {},
   "outputs": [],
   "source": [
    "# Number of expiries in each year\n",
    "yearlyExpiries = [len(sublist) for sublist in yearlyGaps]"
   ]
  },
  {
   "cell_type": "code",
   "execution_count": 18,
   "metadata": {},
   "outputs": [
    {
     "data": {
      "text/html": [
       "<div>\n",
       "<style scoped>\n",
       "    .dataframe tbody tr th:only-of-type {\n",
       "        vertical-align: middle;\n",
       "    }\n",
       "\n",
       "    .dataframe tbody tr th {\n",
       "        vertical-align: top;\n",
       "    }\n",
       "\n",
       "    .dataframe thead th {\n",
       "        text-align: right;\n",
       "    }\n",
       "</style>\n",
       "<table border=\"1\" class=\"dataframe\">\n",
       "  <thead>\n",
       "    <tr style=\"text-align: right;\">\n",
       "      <th></th>\n",
       "      <th>gaps</th>\n",
       "      <th>year</th>\n",
       "    </tr>\n",
       "  </thead>\n",
       "  <tbody>\n",
       "    <tr>\n",
       "      <th>0</th>\n",
       "      <td>146.96</td>\n",
       "      <td>2015</td>\n",
       "    </tr>\n",
       "    <tr>\n",
       "      <th>1</th>\n",
       "      <td>16.35</td>\n",
       "      <td>2015</td>\n",
       "    </tr>\n",
       "    <tr>\n",
       "      <th>2</th>\n",
       "      <td>-12.79</td>\n",
       "      <td>2015</td>\n",
       "    </tr>\n",
       "    <tr>\n",
       "      <th>3</th>\n",
       "      <td>9.40</td>\n",
       "      <td>2015</td>\n",
       "    </tr>\n",
       "    <tr>\n",
       "      <th>4</th>\n",
       "      <td>49.55</td>\n",
       "      <td>2015</td>\n",
       "    </tr>\n",
       "  </tbody>\n",
       "</table>\n",
       "</div>"
      ],
      "text/plain": [
       "     gaps  year\n",
       "0  146.96  2015\n",
       "1   16.35  2015\n",
       "2  -12.79  2015\n",
       "3    9.40  2015\n",
       "4   49.55  2015"
      ]
     },
     "execution_count": 18,
     "metadata": {},
     "output_type": "execute_result"
    }
   ],
   "source": [
    "yearlyExpDF = pd.DataFrame(np.repeat([2015, 2016, 2017, 2018, 2019, 2020, 2021], yearlyExpiries),\n",
    "                             [item for sublist in yearlyGaps for item in sublist]).reset_index()\n",
    "yearlyExpDF.columns = ['gaps', 'year']\n",
    "yearlyExpDF.head()"
   ]
  },
  {
   "cell_type": "code",
   "execution_count": 19,
   "metadata": {},
   "outputs": [
    {
     "data": {
      "text/plain": [
       "<seaborn.axisgrid.FacetGrid at 0x2894c43b040>"
      ]
     },
     "execution_count": 19,
     "metadata": {},
     "output_type": "execute_result"
    },
    {
     "data": {
      "image/png": "[encoded data removed]",
      "text/plain": [
       "<Figure size 1141.5x1080 with 7 Axes>"
      ]
     },
     "metadata": {
      "needs_background": "light"
     },
     "output_type": "display_data"
    }
   ],
   "source": [
    "sns.displot(yearlyExpDF, x=\"gaps\", hue=\"year\", col=\"year\", col_wrap=3,\n",
    "           facet_kws={\"sharex\":False, \"sharey\":False})"
   ]
  },
  {
   "cell_type": "code",
   "execution_count": null,
   "metadata": {},
   "outputs": [],
   "source": []
  }
 ],
 "metadata": {
  "kernelspec": {
   "display_name": "Python 3",
   "language": "python",
   "name": "python3"
  },
  "language_info": {
   "codemirror_mode": {
    "name": "ipython",
    "version": 3
   },
   "file_extension": ".py",
   "mimetype": "text/x-python",
   "name": "python",
   "nbconvert_exporter": "python",
   "pygments_lexer": "ipython3",
   "version": "3.8.5"
  }
 },
 "nbformat": 4,
 "nbformat_minor": 4
}
